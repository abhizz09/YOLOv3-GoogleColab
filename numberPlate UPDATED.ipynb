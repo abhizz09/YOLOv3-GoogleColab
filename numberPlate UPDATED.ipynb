{
 "cells": [
  {
   "cell_type": "markdown",
   "metadata": {
    "colab_type": "text",
    "id": "8ZpWks5f6qKp"
   },
   "source": [
    "**Importing  Requried Libraries**"
   ]
  },
  {
   "cell_type": "code",
   "execution_count": 1,
   "metadata": {
    "colab": {},
    "colab_type": "code",
    "id": "xG14nauwG_FC"
   },
   "outputs": [],
   "source": [
    "#!pip install pytesseract\n",
    "#!apt install tesseract-ocr"
   ]
  },
  {
   "cell_type": "code",
   "execution_count": 2,
   "metadata": {
    "colab": {},
    "colab_type": "code",
    "id": "tpwY_J9uoCri"
   },
   "outputs": [],
   "source": [
    "import cv2\n",
    "from PIL import Image\n",
    "import pytesseract as tess\n",
    "import numpy as np\n"
   ]
  },
  {
   "cell_type": "code",
   "execution_count": 3,
   "metadata": {
    "colab": {},
    "colab_type": "code",
    "id": "1wQtJUEPL640"
   },
   "outputs": [],
   "source": [
    "#!apt autoremove\n",
    "#!apt update"
   ]
  },
  {
   "cell_type": "markdown",
   "metadata": {
    "colab_type": "text",
    "id": "xxI_0Akm7BNV"
   },
   "source": [
    "**Reading And  Displaying The Image**"
   ]
  },
  {
   "cell_type": "code",
   "execution_count": 4,
   "metadata": {
    "colab": {},
    "colab_type": "code",
    "id": "3n0nZymkpRTC"
   },
   "outputs": [],
   "source": [
    "img = cv2.imread(\"VW_Jetta_Front.jpg\")\n",
    "\n"
   ]
  },
  {
   "cell_type": "code",
   "execution_count": 5,
   "metadata": {
    "colab": {},
    "colab_type": "code",
    "id": "0sc2JjIDpZMP"
   },
   "outputs": [],
   "source": [
    "img = cv2.resize(img,(620,480))\n",
    "cv2.imshow(\"original image\",img); cv2.waitKey(0); cv2.destroyAllWindows()\n"
   ]
  },
  {
   "cell_type": "markdown",
   "metadata": {
    "colab_type": "text",
    "id": "o7Zm43PI9xuY"
   },
   "source": [
    "**Image Pre-Prosseing**"
   ]
  },
  {
   "cell_type": "code",
   "execution_count": 6,
   "metadata": {
    "colab": {},
    "colab_type": "code",
    "id": "xdFS2M2Epcbz"
   },
   "outputs": [],
   "source": [
    "imgBlurred = cv2.GaussianBlur(img, (3,3), 0) # removing gaussian noise from the image\n",
    "gray = cv2.cvtColor(imgBlurred, cv2.COLOR_BGR2GRAY) # converting BGR image to Grey\n",
    "\n",
    "\n",
    "#gray = cv2.adaptiveThreshold(gray,50,cv2.ADAPTIVE_THRESH_MEAN_C,cv2.THRESH_BINARY,11,2)\n",
    "\n",
    "gray = cv2.Canny(gray,150,255)\n",
    "cv2.imshow(\"Canny_Filtered\",gray); cv2.waitKey(0); cv2.destroyAllWindows()\n",
    "\n",
    "#sobelx = cv2.GaussianBlur(sobelx,(5,3),0)\n",
    "sobelx = cv2.Sobel(gray,cv2.CV_8U,1,0,ksize=3) # applying sobelX Filter\n",
    "\n",
    "\n",
    "\t\n",
    "ret2,threshold_img = cv2.threshold(sobelx,210,255,cv2.THRESH_BINARY+cv2.THRESH_OTSU)\n",
    "#cv2_imshow(threshold_img)\n",
    "\n",
    "cv2.imshow(\"SObelX_threshold\",threshold_img); cv2.waitKey(0); cv2.destroyAllWindows()"
   ]
  },
  {
   "cell_type": "markdown",
   "metadata": {
    "colab_type": "text",
    "id": "tWSiaE_yBacw"
   },
   "source": [
    "**Contours Extraction**"
   ]
  },
  {
   "cell_type": "code",
   "execution_count": 7,
   "metadata": {
    "colab": {},
    "colab_type": "code",
    "id": "bv2Yte_RqcAK"
   },
   "outputs": [],
   "source": [
    "element = cv2.getStructuringElement(shape=cv2.MORPH_RECT, ksize=(17, 3))\n",
    "morph_img_threshold = threshold_img.copy()\n",
    "cv2.morphologyEx(src=threshold_img, op=cv2.MORPH_CLOSE, kernel=element, dst=morph_img_threshold)\n",
    "contours,_ = cv2.findContours(morph_img_threshold,mode=cv2.RETR_EXTERNAL,method=cv2.CHAIN_APPROX_NONE)"
   ]
  },
  {
   "cell_type": "markdown",
   "metadata": {
    "colab_type": "text",
    "id": "bELIk1BCBpkT"
   },
   "source": [
    "**Draw Contours On The Image**"
   ]
  },
  {
   "cell_type": "code",
   "execution_count": 8,
   "metadata": {
    "colab": {},
    "colab_type": "code",
    "id": "uEkX_S1DEIiB"
   },
   "outputs": [],
   "source": [
    "img_copy = img.copy()"
   ]
  },
  {
   "cell_type": "code",
   "execution_count": 9,
   "metadata": {
    "colab": {},
    "colab_type": "code",
    "id": "9k_drq8ZsGpb"
   },
   "outputs": [],
   "source": [
    "cv2.drawContours(img_copy, contours, -1, (0,255,0), 1)\n",
    "cv2.imshow(\"Contours on image\",img_copy); cv2.waitKey(0); cv2.destroyAllWindows()\n"
   ]
  },
  {
   "cell_type": "markdown",
   "metadata": {
    "colab_type": "text",
    "id": "XPBLwWkACB9S"
   },
   "source": [
    "**Filterning the Unwated Contours from the image**"
   ]
  },
  {
   "cell_type": "code",
   "execution_count": 10,
   "metadata": {
    "colab": {},
    "colab_type": "code",
    "id": "FymRQprFquDo"
   },
   "outputs": [],
   "source": [
    "def validateRotationAndRatio(rect):\n",
    "\t(x, y), (width, height), rect_angle = rect\n",
    "\n",
    "\tif(width>height):\n",
    "\t\tangle = -rect_angle\n",
    "\telse:\n",
    "\t\tangle = 90 + rect_angle\n",
    "\n",
    "\tif angle>15:\n",
    "\t \treturn False\n",
    "\n",
    "\tif height == 0 or width == 0:\n",
    "\t\treturn False\n",
    "\n",
    "\tarea = height*width\n",
    "\t\n",
    "\n",
    "\treturn True"
   ]
  },
  {
   "cell_type": "code",
   "execution_count": 11,
   "metadata": {
    "colab": {},
    "colab_type": "code",
    "id": "vG404BvWMqG4"
   },
   "outputs": [],
   "source": [
    "#!apt install libtesseract-dev\n",
    "\n",
    "def ratioCheck(area, width, height):\n",
    "\tratio = float(width) / float(height)\n",
    "\tif ratio < 1:\n",
    "\t\tratio = 1 / ratio\n",
    "\n",
    "\taspect = 4.7272\n",
    "\tmin = 15*aspect*15  # minimum area\n",
    "\tmax = 125*aspect*125  # maximum area\n",
    "\n",
    "\trmin = 3\n",
    "\trmax = 6\n",
    "\n",
    "\tif (area < min or area > max) or (ratio < rmin or ratio > rmax):\n",
    "\t\treturn False\n",
    "\treturn True"
   ]
  },
  {
   "cell_type": "code",
   "execution_count": 12,
   "metadata": {
    "colab": {},
    "colab_type": "code",
    "id": "cKHeJRqMd-yv"
   },
   "outputs": [],
   "source": [
    "def isPlate(plate_img):\n",
    "  \n",
    "    char = cv2.cvtColor(plate_img, cv2.COLOR_BGR2GRAY)\n",
    "    #char = cv2.Canny(char,120,255)\n",
    "\n",
    "    (_, thresh) = cv2.threshold(char, 200, 255, cv2.THRESH_BINARY | cv2.THRESH_OTSU)\n",
    "    #thresh = cv2.adaptiveThreshold(char,255,cv2.ADAPTIVE_THRESH_MEAN_C,cv2.THRESH_BINARY,2,1)\n",
    "    #cv2_imshow(thresh)\n",
    "\n",
    "    contours,hierarchy = cv2.findContours(thresh.copy(),cv2.RETR_EXTERNAL, cv2.CHAIN_APPROX_NONE)\n",
    "    \n",
    "    if contours:\n",
    "        areas = [cv2.contourArea(c) for c in contours]\n",
    "        #print(\"areas=={}\",areas)\n",
    "        max_index = np.argmax(areas)\n",
    "        #print(\"max_index\",max_index)\n",
    "        max_cnt = contours[max_index]\n",
    "        #print(\"contours(max_cnt)=\",max_cnt)\n",
    "        max_cntArea = areas[max_index]\n",
    "        #print(\"areas[max_index]=\",max_cntArea)\n",
    "        x,y,w,h = cv2.boundingRect(max_cnt)\n",
    "        \n",
    "        if not ratioCheck(max_cntArea,w,h):\n",
    "            return plate_img,None\n",
    "        \n",
    "        cleaned_final = thresh[y:y+h, x:x+w]\n",
    "        return cleaned_final,[x,y,w,h]\n",
    "      \n",
    "    else:\n",
    "          return plate,None\n",
    "        \n",
    "  "
   ]
  },
  {
   "cell_type": "code",
   "execution_count": 13,
   "metadata": {
    "colab": {},
    "colab_type": "code",
    "id": "bi7TuKeSsCTY"
   },
   "outputs": [
    {
     "name": "stdout",
     "output_type": "stream",
     "text": [
      "NumberPlate\n",
      "MH 14087483:\n"
     ]
    }
   ],
   "source": [
    "for i,cnt in enumerate(contours):\n",
    "    min_rect = cv2.minAreaRect(cnt)\n",
    "    if validateRotationAndRatio(min_rect):\n",
    "        x,y,w,h = cv2.boundingRect(cnt)\n",
    "        plate_img = img[y:y+h,x:x+w]\n",
    "        #cv2_imshow(plate_img)\n",
    "        #plate_img = cv2.adaptiveThreshold(plate_img,255,cv2.ADAPTIVE_THRESH_MEAN_C,cv2.THRESH_BINARY,11,2)\n",
    "\n",
    "        numPlate, rect = isPlate(plate_img)\n",
    "\n",
    "\n",
    "        if rect:\n",
    "            print(\"NumberPlate\")\n",
    "            #numPlate = cv2.Sobel(numPlate,cv2.CV_8U,1,0,ksize=3)\n",
    "            #numPlate = cv2.Canny(numPlate,200,255)\n",
    "            cv2.imshow(\"RECT boxes_probable number plate\",numPlate);cv2.waitKey(0); cv2.destroyAllWindows()\n",
    "            print(tess.image_to_string(numPlate))\n",
    "            x1,y1,w1,h1 = rect\n",
    "            x,y,w,h = x+x1,y+y1,w1,h1\n",
    "            plateonly = img[y:y+h,x:x+w]\n",
    "            \n",
    "\n",
    "\n",
    "          "
   ]
  },
  {
   "cell_type": "code",
   "execution_count": null,
   "metadata": {
    "colab": {},
    "colab_type": "code",
    "id": "VFbyn-R4pVRR"
   },
   "outputs": [],
   "source": []
  }
 ],
 "metadata": {
  "accelerator": "GPU",
  "colab": {
   "name": "numberPlate.ipynb",
   "private_outputs": true,
   "provenance": [],
   "version": "0.3.2"
  },
  "kernelspec": {
   "display_name": "Python 3",
   "language": "python",
   "name": "python3"
  },
  "language_info": {
   "codemirror_mode": {
    "name": "ipython",
    "version": 3
   },
   "file_extension": ".py",
   "mimetype": "text/x-python",
   "name": "python",
   "nbconvert_exporter": "python",
   "pygments_lexer": "ipython3",
   "version": "3.5.6"
  }
 },
 "nbformat": 4,
 "nbformat_minor": 1
}
