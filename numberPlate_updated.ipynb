{
  "nbformat": 4,
  "nbformat_minor": 0,
  "metadata": {
    "colab": {
      "name": "numberPlate.ipynb",
      "version": "0.3.2",
      "provenance": [],
      "private_outputs": true,
      "include_colab_link": true
    },
    "kernelspec": {
      "name": "python3",
      "display_name": "Python 3"
    },
    "accelerator": "GPU"
  },
  "cells": [
    {
      "cell_type": "markdown",
      "metadata": {
        "id": "view-in-github",
        "colab_type": "text"
      },
      "source": [
        "<a href=\"https://colab.research.google.com/github/abhizz09/YOLOv3-GoogleColab/blob/master/numberPlate_updated.ipynb\" target=\"_parent\"><img src=\"https://colab.research.google.com/assets/colab-badge.svg\" alt=\"Open In Colab\"/></a>"
      ]
    },
    {
      "cell_type": "markdown",
      "metadata": {
        "id": "8ZpWks5f6qKp",
        "colab_type": "text"
      },
      "source": [
        "**Importing  Requried Libraries**"
      ]
    },
    {
      "cell_type": "code",
      "metadata": {
        "id": "xG14nauwG_FC",
        "colab_type": "code",
        "colab": {}
      },
      "source": [
        "#!pip install pytesseract\n",
        "#!apt install tesseract-ocr"
      ],
      "execution_count": 0,
      "outputs": []
    },
    {
      "cell_type": "code",
      "metadata": {
        "id": "tpwY_J9uoCri",
        "colab_type": "code",
        "colab": {}
      },
      "source": [
        "import cv2\n",
        "from google.colab.patches import cv2_imshow\n",
        "from PIL import Image\n",
        "import pytesseract as tess\n",
        "import numpy as np\n"
      ],
      "execution_count": 0,
      "outputs": []
    },
    {
      "cell_type": "code",
      "metadata": {
        "id": "1wQtJUEPL640",
        "colab_type": "code",
        "colab": {}
      },
      "source": [
        "#!apt autoremove\n",
        "#!apt update"
      ],
      "execution_count": 0,
      "outputs": []
    },
    {
      "cell_type": "markdown",
      "metadata": {
        "id": "dCjyEUKn64Zt",
        "colab_type": "text"
      },
      "source": [
        "**Mount your google Drive with Colab**"
      ]
    },
    {
      "cell_type": "code",
      "metadata": {
        "id": "G_M2ovFIpyJl",
        "colab_type": "code",
        "colab": {}
      },
      "source": [
        "from google.colab import drive\n",
        "drive.mount('/content/gdrive')"
      ],
      "execution_count": 0,
      "outputs": []
    },
    {
      "cell_type": "markdown",
      "metadata": {
        "id": "xxI_0Akm7BNV",
        "colab_type": "text"
      },
      "source": [
        "**Reading And  Displaying The Image**"
      ]
    },
    {
      "cell_type": "code",
      "metadata": {
        "id": "3n0nZymkpRTC",
        "colab_type": "code",
        "colab": {}
      },
      "source": [
        "img = cv2.imread(\"/content/gdrive/My Drive/croped_contors_images/RedBot_NumberPlate/VW_Jetta_Front.jpg\")\n",
        "\n"
      ],
      "execution_count": 0,
      "outputs": []
    },
    {
      "cell_type": "code",
      "metadata": {
        "id": "0sc2JjIDpZMP",
        "colab_type": "code",
        "colab": {}
      },
      "source": [
        "img = cv2.resize(img,(620,480))\n",
        "cv2_imshow(img)\n"
      ],
      "execution_count": 0,
      "outputs": []
    },
    {
      "cell_type": "markdown",
      "metadata": {
        "id": "o7Zm43PI9xuY",
        "colab_type": "text"
      },
      "source": [
        "**Image Pre-Prosseing**"
      ]
    },
    {
      "cell_type": "code",
      "metadata": {
        "id": "xdFS2M2Epcbz",
        "colab_type": "code",
        "colab": {}
      },
      "source": [
        "imgBlurred = cv2.GaussianBlur(img, (3,3), 0) # removing gaussian noise from the image\n",
        "gray = cv2.cvtColor(imgBlurred, cv2.COLOR_BGR2GRAY) # converting BGR image to Grey\n",
        "\n",
        "\n",
        "#gray = cv2.adaptiveThreshold(gray,50,cv2.ADAPTIVE_THRESH_MEAN_C,cv2.THRESH_BINARY,11,2)\n",
        "\n",
        "gray = cv2.Canny(gray,150,255)\n",
        "cv2_imshow(gray)\n",
        "\n",
        "#sobelx = cv2.GaussianBlur(sobelx,(5,3),0)\n",
        "sobelx = cv2.Sobel(gray,cv2.CV_8U,1,0,ksize=3) # applying sobelX Filter\n",
        "\n",
        "\n",
        "\t\n",
        "ret2,threshold_img = cv2.threshold(sobelx,210,255,cv2.THRESH_BINARY+cv2.THRESH_OTSU)\n",
        "#cv2_imshow(threshold_img)\n",
        "\n",
        "cv2_imshow(threshold_img)"
      ],
      "execution_count": 0,
      "outputs": []
    },
    {
      "cell_type": "markdown",
      "metadata": {
        "id": "tWSiaE_yBacw",
        "colab_type": "text"
      },
      "source": [
        "**Contours Extraction**"
      ]
    },
    {
      "cell_type": "code",
      "metadata": {
        "id": "bv2Yte_RqcAK",
        "colab_type": "code",
        "colab": {}
      },
      "source": [
        "element = cv2.getStructuringElement(shape=cv2.MORPH_RECT, ksize=(17, 3))\n",
        "morph_img_threshold = threshold_img.copy()\n",
        "cv2.morphologyEx(src=threshold_img, op=cv2.MORPH_CLOSE, kernel=element, dst=morph_img_threshold)\n",
        "im2,contours,_ = cv2.findContours(morph_img_threshold,mode=cv2.RETR_EXTERNAL,method=cv2.CHAIN_APPROX_NONE)"
      ],
      "execution_count": 0,
      "outputs": []
    },
    {
      "cell_type": "markdown",
      "metadata": {
        "id": "bELIk1BCBpkT",
        "colab_type": "text"
      },
      "source": [
        "**Draw Contours On The Image**"
      ]
    },
    {
      "cell_type": "code",
      "metadata": {
        "id": "uEkX_S1DEIiB",
        "colab_type": "code",
        "colab": {}
      },
      "source": [
        "img_copy = img.copy()"
      ],
      "execution_count": 0,
      "outputs": []
    },
    {
      "cell_type": "code",
      "metadata": {
        "id": "9k_drq8ZsGpb",
        "colab_type": "code",
        "colab": {}
      },
      "source": [
        "cv2.drawContours(img_copy, contours, -1, (0,255,0), 1)\n",
        "cv2_imshow(img_copy)\n"
      ],
      "execution_count": 0,
      "outputs": []
    },
    {
      "cell_type": "markdown",
      "metadata": {
        "id": "XPBLwWkACB9S",
        "colab_type": "text"
      },
      "source": [
        "**Filterning the Unwated Contours from the image**"
      ]
    },
    {
      "cell_type": "code",
      "metadata": {
        "id": "FymRQprFquDo",
        "colab_type": "code",
        "colab": {}
      },
      "source": [
        "def validateRotationAndRatio(rect):\n",
        "\t(x, y), (width, height), rect_angle = rect\n",
        "\n",
        "\tif(width>height):\n",
        "\t\tangle = -rect_angle\n",
        "\telse:\n",
        "\t\tangle = 90 + rect_angle\n",
        "\n",
        "\tif angle>15:\n",
        "\t \treturn False\n",
        "\n",
        "\tif height == 0 or width == 0:\n",
        "\t\treturn False\n",
        "\n",
        "\tarea = height*width\n",
        "\t\n",
        "\n",
        "\treturn True"
      ],
      "execution_count": 0,
      "outputs": []
    },
    {
      "cell_type": "code",
      "metadata": {
        "id": "vG404BvWMqG4",
        "colab_type": "code",
        "colab": {}
      },
      "source": [
        "#!apt install libtesseract-dev\n",
        "\n",
        "def ratioCheck(area, width, height):\n",
        "\tratio = float(width) / float(height)\n",
        "\tif ratio < 1:\n",
        "\t\tratio = 1 / ratio\n",
        "\n",
        "\taspect = 4.7272\n",
        "\tmin = 15*aspect*15  # minimum area\n",
        "\tmax = 125*aspect*125  # maximum area\n",
        "\n",
        "\trmin = 3\n",
        "\trmax = 6\n",
        "\n",
        "\tif (area < min or area > max) or (ratio < rmin or ratio > rmax):\n",
        "\t\treturn False\n",
        "\treturn True"
      ],
      "execution_count": 0,
      "outputs": []
    },
    {
      "cell_type": "code",
      "metadata": {
        "id": "cKHeJRqMd-yv",
        "colab_type": "code",
        "colab": {}
      },
      "source": [
        "def isPlate(plate_img):\n",
        "  \n",
        "    char = cv2.cvtColor(plate_img, cv2.COLOR_BGR2GRAY)\n",
        "    #char = cv2.Canny(char,120,255)\n",
        "\n",
        "    (_, thresh) = cv2.threshold(char, 200, 255, cv2.THRESH_BINARY | cv2.THRESH_OTSU)\n",
        "    #thresh = cv2.adaptiveThreshold(char,255,cv2.ADAPTIVE_THRESH_MEAN_C,cv2.THRESH_BINARY,2,1)\n",
        "    #cv2_imshow(thresh)\n",
        "\n",
        "    im1,contours,hierarchy = cv2.findContours(thresh.copy(),cv2.RETR_EXTERNAL, cv2.CHAIN_APPROX_NONE)\n",
        "    \n",
        "    if contours:\n",
        "        areas = [cv2.contourArea(c) for c in contours]\n",
        "        #print(\"areas=={}\",areas)\n",
        "        max_index = np.argmax(areas)\n",
        "        #print(\"max_index\",max_index)\n",
        "        max_cnt = contours[max_index]\n",
        "        #print(\"contours(max_cnt)=\",max_cnt)\n",
        "        max_cntArea = areas[max_index]\n",
        "        #print(\"areas[max_index]=\",max_cntArea)\n",
        "        x,y,w,h = cv2.boundingRect(max_cnt)\n",
        "        \n",
        "        if not ratioCheck(max_cntArea,w,h):\n",
        "            return plate_img,None\n",
        "        \n",
        "        cleaned_final = thresh[y:y+h, x:x+w]\n",
        "        return cleaned_final,[x,y,w,h]\n",
        "      \n",
        "    else:\n",
        "      return plate,None\n",
        "        \n",
        "  "
      ],
      "execution_count": 0,
      "outputs": []
    },
    {
      "cell_type": "code",
      "metadata": {
        "id": "bi7TuKeSsCTY",
        "colab_type": "code",
        "colab": {}
      },
      "source": [
        "for i,cnt in enumerate(contours):\n",
        "  min_rect = cv2.minAreaRect(cnt)\n",
        "  \n",
        "  if validateRotationAndRatio(min_rect):\n",
        "\n",
        "    x,y,w,h = cv2.boundingRect(cnt)\n",
        "    plate_img = img[y:y+h,x:x+w]\n",
        "    #cv2_imshow(plate_img)\n",
        "    #plate_img = cv2.adaptiveThreshold(plate_img,255,cv2.ADAPTIVE_THRESH_MEAN_C,cv2.THRESH_BINARY,11,2)\n",
        "\n",
        "    numPlate, rect = isPlate(plate_img)\n",
        "    \n",
        "    \n",
        "    if rect:\n",
        "      print(\"NumberPlate\")\n",
        "      #numPlate = cv2.Sobel(numPlate,cv2.CV_8U,1,0,ksize=3)\n",
        "      #numPlate = cv2.Canny(numPlate,200,255)\n",
        "      cv2_imshow(numPlate)\n",
        "      print(tess.image_to_string(numPlate))\n",
        "      x1,y1,w1,h1 = rect\n",
        "      x,y,w,h = x+x1,y+y1,w1,h1\n",
        "      plateonly = img[y:y+h,x:x+w]\n",
        "      cv2_imshow(plateonly)\n",
        "      \n",
        "    \n",
        "          "
      ],
      "execution_count": 0,
      "outputs": []
    },
    {
      "cell_type": "code",
      "metadata": {
        "id": "VFbyn-R4pVRR",
        "colab_type": "code",
        "colab": {}
      },
      "source": [
        ""
      ],
      "execution_count": 0,
      "outputs": []
    }
  ]
}